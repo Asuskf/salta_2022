{
 "cells": [
  {
   "cell_type": "code",
   "execution_count": 4,
   "id": "009058e4-d450-4933-80fe-6c17e1e9c801",
   "metadata": {},
   "outputs": [],
   "source": [
    "using PyCall\n",
    "using RCall"
   ]
  },
  {
   "cell_type": "markdown",
   "id": "5a59a481-7937-4ab7-9eae-00f17f03b44e",
   "metadata": {},
   "source": [
    "## Python"
   ]
  },
  {
   "cell_type": "code",
   "execution_count": 2,
   "id": "a201f2dc-6234-4fe4-a2de-65bb2c589400",
   "metadata": {},
   "outputs": [
    {
     "data": {
      "text/plain": [
       "7"
      ]
     },
     "execution_count": 2,
     "metadata": {},
     "output_type": "execute_result"
    }
   ],
   "source": [
    "py\"\"\"\n",
    "def sumMyArgs (i, j):\n",
    "  return i+j\n",
    "def getNElement (n):\n",
    "  a = [0,1,2,3,4,5,6,7,8,9]\n",
    "  return a[n]\n",
    "\"\"\"\n",
    "pythpon_suma = py\"sumMyArgs\"(3,4)  "
   ]
  },
  {
   "cell_type": "markdown",
   "id": "64b16d04-0615-4f77-bc03-136923293f0c",
   "metadata": {},
   "source": [
    "## R"
   ]
  },
  {
   "cell_type": "code",
   "execution_count": 11,
   "id": "d573cffe-07ea-4e50-8069-3f6a079891c2",
   "metadata": {},
   "outputs": [
    {
     "data": {
      "text/plain": [
       "RObject{RealSxp}\n",
       " [1] -1.577976152  1.542139971 -0.277318598  0.451169184 -0.283050020\n",
       " [6]  1.277679540  0.374484602  1.667225710  1.324433461 -0.002380962\n"
      ]
     },
     "execution_count": 11,
     "metadata": {},
     "output_type": "execute_result"
    }
   ],
   "source": [
    " r_macro = R\"rnorm(10)\""
   ]
  },
  {
   "cell_type": "markdown",
   "id": "aa80c49d-afd7-4f60-a88c-8176f21742fc",
   "metadata": {},
   "source": [
    "## Julia"
   ]
  },
  {
   "cell_type": "code",
   "execution_count": 21,
   "id": "f59f9a3d-e045-46c3-a37c-1b921f9193d0",
   "metadata": {},
   "outputs": [
    {
     "data": {
      "text/plain": [
       "2×3 Matrix{Float64}:\n",
       " 0.46665  0.514634  0.15088\n",
       " 0.32261  0.438004  0.0926662"
      ]
     },
     "execution_count": 21,
     "metadata": {},
     "output_type": "execute_result"
    }
   ],
   "source": [
    "julia_matrix = rand(2, 3)"
   ]
  },
  {
   "cell_type": "markdown",
   "id": "af7da33e-f48c-4906-9f26-68c4adc82d6c",
   "metadata": {},
   "source": [
    "## Combinar"
   ]
  },
  {
   "cell_type": "code",
   "execution_count": 22,
   "id": "5e84a7bf-65d8-409e-8c53-c580f457a638",
   "metadata": {},
   "outputs": [
    {
     "data": {
      "text/plain": [
       "7"
      ]
     },
     "execution_count": 22,
     "metadata": {},
     "output_type": "execute_result"
    }
   ],
   "source": [
    "pythpon_suma"
   ]
  },
  {
   "cell_type": "code",
   "execution_count": 23,
   "id": "0b1c3600-0fb9-44ba-a239-aa10e0981a16",
   "metadata": {},
   "outputs": [
    {
     "data": {
      "text/plain": [
       "RObject{RealSxp}\n",
       " [1] -1.577976152  1.542139971 -0.277318598  0.451169184 -0.283050020\n",
       " [6]  1.277679540  0.374484602  1.667225710  1.324433461 -0.002380962\n"
      ]
     },
     "execution_count": 23,
     "metadata": {},
     "output_type": "execute_result"
    }
   ],
   "source": [
    "r_macro"
   ]
  },
  {
   "cell_type": "code",
   "execution_count": 24,
   "id": "a5157fa6-ab96-4983-973c-2cf914cbfadd",
   "metadata": {},
   "outputs": [
    {
     "data": {
      "text/plain": [
       "2×3 Matrix{Float64}:\n",
       " 0.46665  0.514634  0.15088\n",
       " 0.32261  0.438004  0.0926662"
      ]
     },
     "execution_count": 24,
     "metadata": {},
     "output_type": "execute_result"
    }
   ],
   "source": [
    "julia_matrix"
   ]
  },
  {
   "cell_type": "code",
   "execution_count": null,
   "id": "8fff9090-59b8-4d74-aee3-6e924859f652",
   "metadata": {},
   "outputs": [],
   "source": []
  }
 ],
 "metadata": {
  "kernelspec": {
   "display_name": "Julia 1.8.1",
   "language": "julia",
   "name": "julia-1.8"
  },
  "language_info": {
   "file_extension": ".jl",
   "mimetype": "application/julia",
   "name": "julia",
   "version": "1.8.1"
  }
 },
 "nbformat": 4,
 "nbformat_minor": 5
}
