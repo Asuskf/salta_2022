{
 "cells": [
  {
   "cell_type": "code",
   "execution_count": 12,
   "id": "a6549b8a-dc5e-4a23-98dd-7f8eff370ca2",
   "metadata": {},
   "outputs": [
    {
     "name": "stderr",
     "output_type": "stream",
     "text": [
      "Updating HTML index of packages in '.Library'\n",
      "\n",
      "Making 'packages.html' ...\n",
      " done\n",
      "\n",
      "also installing the dependency ‘rjson’\n",
      "\n",
      "\n",
      "Updating HTML index of packages in '.Library'\n",
      "\n",
      "Making 'packages.html' ...\n",
      " done\n",
      "\n"
     ]
    }
   ],
   "source": [
    "install.packages(\"reticulate\")\n",
    "install.packages(\"JuliaCall\")"
   ]
  },
  {
   "cell_type": "markdown",
   "id": "e4098e7a-1330-429b-afff-7da99f54d261",
   "metadata": {},
   "source": [
    "## Python"
   ]
  },
  {
   "cell_type": "code",
   "execution_count": 13,
   "id": "07955f31-d4e6-4553-9e34-c70ddfa835b0",
   "metadata": {},
   "outputs": [],
   "source": [
    "library(reticulate)\n",
    "# import numpy and specify no automatic Python to R conversion\n",
    "np <- import(\"numpy\", convert = FALSE)\n",
    "a <- np$array(c(1:4))\n",
    "r_sum <- a$cumsum()"
   ]
  },
  {
   "cell_type": "markdown",
   "id": "cd6f7869-a69b-453a-bf4a-a23ba20d83a3",
   "metadata": {},
   "source": [
    "## R"
   ]
  },
  {
   "cell_type": "code",
   "execution_count": 14,
   "id": "4576cadf-dc58-49db-9010-fde827442ff4",
   "metadata": {},
   "outputs": [],
   "source": [
    "suma_imaginario = as.double(format(round((exp(1) - pi), 3), nsmall = 3))"
   ]
  },
  {
   "cell_type": "markdown",
   "id": "a6e9154f-67ac-4cd3-ba0c-9e0b598ba657",
   "metadata": {},
   "source": [
    "## Julia"
   ]
  },
  {
   "cell_type": "code",
   "execution_count": 24,
   "id": "89a37c82-2a6e-490f-8b43-9c3c901b853c",
   "metadata": {},
   "outputs": [],
   "source": [
    "library(JuliaCall)\n",
    "julia <- julia_setup()\n",
    "julia_raiz = julia_call(\"sqrt\", 2)"
   ]
  },
  {
   "cell_type": "markdown",
   "id": "39c79d07-3779-4f4f-9b79-fa9bd560f305",
   "metadata": {},
   "source": [
    "## Combinar"
   ]
  },
  {
   "cell_type": "code",
   "execution_count": 25,
   "id": "f47226d9-fd04-4e27-9ba0-7606b0662c44",
   "metadata": {},
   "outputs": [
    {
     "data": {
      "text/html": [
       "1.4142135623731"
      ],
      "text/latex": [
       "1.4142135623731"
      ],
      "text/markdown": [
       "1.4142135623731"
      ],
      "text/plain": [
       "[1] 1.414214"
      ]
     },
     "metadata": {},
     "output_type": "display_data"
    }
   ],
   "source": [
    "julia_raiz"
   ]
  },
  {
   "cell_type": "code",
   "execution_count": 26,
   "id": "9486f2b3-9847-4049-b30e-09f4a9e808e0",
   "metadata": {},
   "outputs": [
    {
     "data": {
      "text/html": [
       "-0.423"
      ],
      "text/latex": [
       "-0.423"
      ],
      "text/markdown": [
       "-0.423"
      ],
      "text/plain": [
       "[1] -0.423"
      ]
     },
     "metadata": {},
     "output_type": "display_data"
    }
   ],
   "source": [
    "suma_imaginario"
   ]
  },
  {
   "cell_type": "code",
   "execution_count": 27,
   "id": "2cd6fbe4-dbd8-4a41-8070-b1f8f8108f5d",
   "metadata": {},
   "outputs": [
    {
     "data": {
      "text/plain": [
       "array([ 1,  3,  6, 10])"
      ]
     },
     "metadata": {},
     "output_type": "display_data"
    }
   ],
   "source": [
    "r_sum"
   ]
  },
  {
   "cell_type": "code",
   "execution_count": null,
   "id": "6ebe4f5a-aa6d-4507-be27-12cee8a8ea8b",
   "metadata": {},
   "outputs": [],
   "source": []
  }
 ],
 "metadata": {
  "kernelspec": {
   "display_name": "R",
   "language": "R",
   "name": "ir"
  },
  "language_info": {
   "codemirror_mode": "r",
   "file_extension": ".r",
   "mimetype": "text/x-r-source",
   "name": "R",
   "pygments_lexer": "r",
   "version": "4.1.3"
  }
 },
 "nbformat": 4,
 "nbformat_minor": 5
}
